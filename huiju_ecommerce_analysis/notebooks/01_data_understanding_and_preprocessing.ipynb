{
 "cells": [
  {
   "cell_type": "markdown",
   "metadata": {},
   "source": [
    "# 惠聚电商平台用户品类偏好与消费行为深度分析\n",
    "\n",
    "## 阶段一：数据理解与准备\n",
    "\n",
    "### 1. 项目背景与目标\n",
    "\n",
    "**背景**：本项目模拟2022年腾讯旗下新电商平台“惠聚”的品类战略分析。数据来源于一份模拟的早期用户行为数据集（基于`walmart.csv`调整，假设背景为中国市场）。\n",
    "\n",
    "**目标**：\n",
    "*   理解数据结构和基本特征。\n",
    "*   进行必要的数据清洗和预处理，为后续的探索性数据分析（EDA）和深入分析做好准备。\n",
    "*   初步识别数据中可能存在的质量问题或特点。\n",
    "\n",
    "### 2. 导入必要的库"
   ]
  },
  {
   "cell_type": "code",
   "execution_count": 1,
   "metadata": {},
   "outputs": [],
   "source": [
    "import pandas as pd\n",
    "import numpy as np\n",
    "import matplotlib.pyplot as plt\n",
    "import seaborn as sns\n",
    "\n",
    "# 设置matplotlib和seaborn的样式，使图形更美观\n",
    "plt.style.use('seaborn-v0_8-whitegrid') # 你可以选择其他你喜欢的seaborn样式\n",
    "sns.set_palette('muted') # 设置调色板\n",
    "\n",
    "# 配置pandas显示选项，方便查看数据\n",
    "pd.set_option('display.max_columns', None) # 显示所有列\n",
    "pd.set_option('display.max_rows', 100)    # 最多显示100行\n",
    "pd.set_option('display.float_format', lambda x: '%.3f' % x) # 设置浮点数显示格式"
   ]
  },
  {
   "cell_type": "markdown",
   "metadata": {},
   "source": [
    "### 3. 加载数据\n",
    "\n",
    "我们将加载位于 `../data/huiju_sales_data_2022_processed.csv` 的数据集。"
   ]
  },
  {
   "cell_type": "code",
   "execution_count": 2,
   "metadata": {},
   "outputs": [
    {
     "name": "stdout",
     "output_type": "stream",
     "text": [
      "数据加载成功！\n"
     ]
    }
   ],
   "source": [
    "# 定义数据文件路径\n",
    "data_path = '../data/huiju_sales_data_2022_processed.csv'\n",
    "\n",
    "# 加载数据\n",
    "try:\n",
    "    df = pd.read_csv(data_path)\n",
    "    print(\"数据加载成功！\")\n",
    "except FileNotFoundError:\n",
    "    print(f\"错误：数据文件未在指定路径找到: {data_path}\")\n",
    "    print(\"请确认文件路径是否正确，以及文件是否存在。\")\n",
    "    df = None # 如果文件未找到，将df设为None"
   ]
  },
  {
   "cell_type": "markdown",
   "metadata": {},
   "source": [
    "### 4. 初步数据探索\n",
    "\n",
    "对加载的数据进行初步的探索，了解其基本情况。"
   ]
  },
  {
   "cell_type": "code",
   "execution_count": 3,
   "metadata": {},
   "outputs": [
    {
     "name": "stdout",
     "output_type": "stream",
     "text": [
      "数据前5行：\n"
     ]
    },
    {
     "data": {
      "text/html": [
       "<div>\n",
       "<style scoped>\n",
       "    .dataframe tbody tr th:only-of-type {\n",
       "        vertical-align: middle;\n",
       "    }\n",
       "\n",
       "    .dataframe tbody tr th {\n",
       "        vertical-align: top;\n",
       "    }\n",
       "\n",
       "    .dataframe thead th {\n",
       "        text-align: right;\n",
       "    }\n",
       "</style>\n",
       "<table border=\"1\" class=\"dataframe\">\n",
       "  <thead>\n",
       "    <tr style=\"text-align: right;\">\n",
       "      <th></th>\n",
       "      <th>User_ID</th>\n",
       "      <th>Product_ID</th>\n",
       "      <th>Gender</th>\n",
       "      <th>Age</th>\n",
       "      <th>Occupation</th>\n",
       "      <th>City_Category</th>\n",
       "      <th>Stay_In_Current_City_Years</th>\n",
       "      <th>Marital_Status</th>\n",
       "      <th>Product_Category</th>\n",
       "      <th>Purchase</th>\n",
       "    </tr>\n",
       "  </thead>\n",
       "  <tbody>\n",
       "    <tr>\n",
       "      <th>0</th>\n",
       "      <td>1000001</td>\n",
       "      <td>P00069042</td>\n",
       "      <td>F</td>\n",
       "      <td>0-17</td>\n",
       "      <td>10</td>\n",
       "      <td>A</td>\n",
       "      <td>2</td>\n",
       "      <td>0</td>\n",
       "      <td>3</td>\n",
       "      <td>83.700</td>\n",
       "    </tr>\n",
       "    <tr>\n",
       "      <th>1</th>\n",
       "      <td>1000001</td>\n",
       "      <td>P00248942</td>\n",
       "      <td>F</td>\n",
       "      <td>0-17</td>\n",
       "      <td>10</td>\n",
       "      <td>A</td>\n",
       "      <td>2</td>\n",
       "      <td>0</td>\n",
       "      <td>1</td>\n",
       "      <td>152.000</td>\n",
       "    </tr>\n",
       "    <tr>\n",
       "      <th>2</th>\n",
       "      <td>1000001</td>\n",
       "      <td>P00087842</td>\n",
       "      <td>F</td>\n",
       "      <td>0-17</td>\n",
       "      <td>10</td>\n",
       "      <td>A</td>\n",
       "      <td>2</td>\n",
       "      <td>0</td>\n",
       "      <td>12</td>\n",
       "      <td>14.220</td>\n",
       "    </tr>\n",
       "    <tr>\n",
       "      <th>3</th>\n",
       "      <td>1000001</td>\n",
       "      <td>P00085442</td>\n",
       "      <td>F</td>\n",
       "      <td>0-17</td>\n",
       "      <td>10</td>\n",
       "      <td>A</td>\n",
       "      <td>2</td>\n",
       "      <td>0</td>\n",
       "      <td>12</td>\n",
       "      <td>10.570</td>\n",
       "    </tr>\n",
       "    <tr>\n",
       "      <th>4</th>\n",
       "      <td>1000002</td>\n",
       "      <td>P00285442</td>\n",
       "      <td>M</td>\n",
       "      <td>55+</td>\n",
       "      <td>16</td>\n",
       "      <td>C</td>\n",
       "      <td>4+</td>\n",
       "      <td>0</td>\n",
       "      <td>8</td>\n",
       "      <td>79.690</td>\n",
       "    </tr>\n",
       "  </tbody>\n",
       "</table>\n",
       "</div>"
      ],
      "text/plain": [
       "   User_ID Product_ID Gender   Age  Occupation City_Category  \\\n",
       "0  1000001  P00069042      F  0-17          10             A   \n",
       "1  1000001  P00248942      F  0-17          10             A   \n",
       "2  1000001  P00087842      F  0-17          10             A   \n",
       "3  1000001  P00085442      F  0-17          10             A   \n",
       "4  1000002  P00285442      M   55+          16             C   \n",
       "\n",
       "  Stay_In_Current_City_Years  Marital_Status  Product_Category  Purchase  \n",
       "0                          2               0                 3    83.700  \n",
       "1                          2               0                 1   152.000  \n",
       "2                          2               0                12    14.220  \n",
       "3                          2               0                12    10.570  \n",
       "4                         4+               0                 8    79.690  "
      ]
     },
     "metadata": {},
     "output_type": "display_data"
    }
   ],
   "source": [
    "if df is not None:\n",
    "    print(\"数据前5行：\")\n",
    "    display(df.head())"
   ]
  },
  {
   "cell_type": "code",
   "execution_count": 4,
   "metadata": {},
   "outputs": [
    {
     "name": "stdout",
     "output_type": "stream",
     "text": [
      "\n",
      "数据基本信息：\n",
      "<class 'pandas.core.frame.DataFrame'>\n",
      "RangeIndex: 550068 entries, 0 to 550067\n",
      "Data columns (total 10 columns):\n",
      " #   Column                      Non-Null Count   Dtype  \n",
      "---  ------                      --------------   -----  \n",
      " 0   User_ID                     550068 non-null  int64  \n",
      " 1   Product_ID                  550068 non-null  object \n",
      " 2   Gender                      550068 non-null  object \n",
      " 3   Age                         550068 non-null  object \n",
      " 4   Occupation                  550068 non-null  int64  \n",
      " 5   City_Category               550068 non-null  object \n",
      " 6   Stay_In_Current_City_Years  550068 non-null  object \n",
      " 7   Marital_Status              550068 non-null  int64  \n",
      " 8   Product_Category            550068 non-null  int64  \n",
      " 9   Purchase                    550068 non-null  float64\n",
      "dtypes: float64(1), int64(4), object(5)\n",
      "memory usage: 42.0+ MB\n"
     ]
    }
   ],
   "source": [
    "if df is not None:\n",
    "    print(\"\\n数据基本信息：\")\n",
    "    df.info()"
   ]
  },
  {
   "cell_type": "code",
   "execution_count": 5,
   "metadata": {},
   "outputs": [
    {
     "name": "stdout",
     "output_type": "stream",
     "text": [
      "\n",
      "数值型列描述性统计：\n"
     ]
    },
    {
     "data": {
      "text/html": [
       "<div>\n",
       "<style scoped>\n",
       "    .dataframe tbody tr th:only-of-type {\n",
       "        vertical-align: middle;\n",
       "    }\n",
       "\n",
       "    .dataframe tbody tr th {\n",
       "        vertical-align: top;\n",
       "    }\n",
       "\n",
       "    .dataframe thead th {\n",
       "        text-align: right;\n",
       "    }\n",
       "</style>\n",
       "<table border=\"1\" class=\"dataframe\">\n",
       "  <thead>\n",
       "    <tr style=\"text-align: right;\">\n",
       "      <th></th>\n",
       "      <th>User_ID</th>\n",
       "      <th>Occupation</th>\n",
       "      <th>Marital_Status</th>\n",
       "      <th>Product_Category</th>\n",
       "      <th>Purchase</th>\n",
       "    </tr>\n",
       "  </thead>\n",
       "  <tbody>\n",
       "    <tr>\n",
       "      <th>count</th>\n",
       "      <td>550068.000</td>\n",
       "      <td>550068.000</td>\n",
       "      <td>550068.000</td>\n",
       "      <td>550068.000</td>\n",
       "      <td>550068.000</td>\n",
       "    </tr>\n",
       "    <tr>\n",
       "      <th>mean</th>\n",
       "      <td>1003028.842</td>\n",
       "      <td>8.077</td>\n",
       "      <td>0.410</td>\n",
       "      <td>5.404</td>\n",
       "      <td>92.640</td>\n",
       "    </tr>\n",
       "    <tr>\n",
       "      <th>std</th>\n",
       "      <td>1727.592</td>\n",
       "      <td>6.523</td>\n",
       "      <td>0.492</td>\n",
       "      <td>3.936</td>\n",
       "      <td>50.231</td>\n",
       "    </tr>\n",
       "    <tr>\n",
       "      <th>min</th>\n",
       "      <td>1000001.000</td>\n",
       "      <td>0.000</td>\n",
       "      <td>0.000</td>\n",
       "      <td>1.000</td>\n",
       "      <td>0.120</td>\n",
       "    </tr>\n",
       "    <tr>\n",
       "      <th>25%</th>\n",
       "      <td>1001516.000</td>\n",
       "      <td>2.000</td>\n",
       "      <td>0.000</td>\n",
       "      <td>1.000</td>\n",
       "      <td>58.230</td>\n",
       "    </tr>\n",
       "    <tr>\n",
       "      <th>50%</th>\n",
       "      <td>1003077.000</td>\n",
       "      <td>7.000</td>\n",
       "      <td>0.000</td>\n",
       "      <td>5.000</td>\n",
       "      <td>80.470</td>\n",
       "    </tr>\n",
       "    <tr>\n",
       "      <th>75%</th>\n",
       "      <td>1004478.000</td>\n",
       "      <td>14.000</td>\n",
       "      <td>1.000</td>\n",
       "      <td>8.000</td>\n",
       "      <td>120.540</td>\n",
       "    </tr>\n",
       "    <tr>\n",
       "      <th>max</th>\n",
       "      <td>1006040.000</td>\n",
       "      <td>20.000</td>\n",
       "      <td>1.000</td>\n",
       "      <td>20.000</td>\n",
       "      <td>239.610</td>\n",
       "    </tr>\n",
       "  </tbody>\n",
       "</table>\n",
       "</div>"
      ],
      "text/plain": [
       "          User_ID  Occupation  Marital_Status  Product_Category   Purchase\n",
       "count  550068.000  550068.000      550068.000        550068.000 550068.000\n",
       "mean  1003028.842       8.077           0.410             5.404     92.640\n",
       "std      1727.592       6.523           0.492             3.936     50.231\n",
       "min   1000001.000       0.000           0.000             1.000      0.120\n",
       "25%   1001516.000       2.000           0.000             1.000     58.230\n",
       "50%   1003077.000       7.000           0.000             5.000     80.470\n",
       "75%   1004478.000      14.000           1.000             8.000    120.540\n",
       "max   1006040.000      20.000           1.000            20.000    239.610"
      ]
     },
     "metadata": {},
     "output_type": "display_data"
    }
   ],
   "source": [
    "if df is not None:\n",
    "    print(\"\\n数值型列描述性统计：\")\n",
    "    display(df.describe())"
   ]
  },
  {
   "cell_type": "code",
   "execution_count": 6,
   "metadata": {},
   "outputs": [
    {
     "name": "stdout",
     "output_type": "stream",
     "text": [
      "\n",
      "非数值型列描述性统计：\n"
     ]
    },
    {
     "data": {
      "text/html": [
       "<div>\n",
       "<style scoped>\n",
       "    .dataframe tbody tr th:only-of-type {\n",
       "        vertical-align: middle;\n",
       "    }\n",
       "\n",
       "    .dataframe tbody tr th {\n",
       "        vertical-align: top;\n",
       "    }\n",
       "\n",
       "    .dataframe thead th {\n",
       "        text-align: right;\n",
       "    }\n",
       "</style>\n",
       "<table border=\"1\" class=\"dataframe\">\n",
       "  <thead>\n",
       "    <tr style=\"text-align: right;\">\n",
       "      <th></th>\n",
       "      <th>Product_ID</th>\n",
       "      <th>Gender</th>\n",
       "      <th>Age</th>\n",
       "      <th>City_Category</th>\n",
       "      <th>Stay_In_Current_City_Years</th>\n",
       "    </tr>\n",
       "  </thead>\n",
       "  <tbody>\n",
       "    <tr>\n",
       "      <th>count</th>\n",
       "      <td>550068</td>\n",
       "      <td>550068</td>\n",
       "      <td>550068</td>\n",
       "      <td>550068</td>\n",
       "      <td>550068</td>\n",
       "    </tr>\n",
       "    <tr>\n",
       "      <th>unique</th>\n",
       "      <td>3631</td>\n",
       "      <td>2</td>\n",
       "      <td>7</td>\n",
       "      <td>3</td>\n",
       "      <td>5</td>\n",
       "    </tr>\n",
       "    <tr>\n",
       "      <th>top</th>\n",
       "      <td>P00265242</td>\n",
       "      <td>M</td>\n",
       "      <td>26-35</td>\n",
       "      <td>B</td>\n",
       "      <td>1</td>\n",
       "    </tr>\n",
       "    <tr>\n",
       "      <th>freq</th>\n",
       "      <td>1880</td>\n",
       "      <td>414259</td>\n",
       "      <td>219587</td>\n",
       "      <td>231173</td>\n",
       "      <td>193821</td>\n",
       "    </tr>\n",
       "  </tbody>\n",
       "</table>\n",
       "</div>"
      ],
      "text/plain": [
       "       Product_ID  Gender     Age City_Category Stay_In_Current_City_Years\n",
       "count      550068  550068  550068        550068                     550068\n",
       "unique       3631       2       7             3                          5\n",
       "top     P00265242       M   26-35             B                          1\n",
       "freq         1880  414259  219587        231173                     193821"
      ]
     },
     "metadata": {},
     "output_type": "display_data"
    }
   ],
   "source": [
    "if df is not None:\n",
    "    print(\"\\n非数值型列描述性统计：\")\n",
    "    display(df.describe(include=['object', 'category'])) # 或者 include='O'"
   ]
  },
  {
   "cell_type": "code",
   "execution_count": 7,
   "metadata": {},
   "outputs": [
    {
     "name": "stdout",
     "output_type": "stream",
     "text": [
      "\n",
      "各列缺失值数量：\n"
     ]
    },
    {
     "data": {
      "text/html": [
       "<div>\n",
       "<style scoped>\n",
       "    .dataframe tbody tr th:only-of-type {\n",
       "        vertical-align: middle;\n",
       "    }\n",
       "\n",
       "    .dataframe tbody tr th {\n",
       "        vertical-align: top;\n",
       "    }\n",
       "\n",
       "    .dataframe thead th {\n",
       "        text-align: right;\n",
       "    }\n",
       "</style>\n",
       "<table border=\"1\" class=\"dataframe\">\n",
       "  <thead>\n",
       "    <tr style=\"text-align: right;\">\n",
       "      <th></th>\n",
       "      <th>Missing Values</th>\n",
       "      <th>Percentage (%)</th>\n",
       "    </tr>\n",
       "  </thead>\n",
       "  <tbody>\n",
       "  </tbody>\n",
       "</table>\n",
       "</div>"
      ],
      "text/plain": [
       "Empty DataFrame\n",
       "Columns: [Missing Values, Percentage (%)]\n",
       "Index: []"
      ]
     },
     "metadata": {},
     "output_type": "display_data"
    },
    {
     "name": "stdout",
     "output_type": "stream",
     "text": [
      "数据中没有缺失值。\n"
     ]
    }
   ],
   "source": [
    "if df is not None:\n",
    "    print(\"\\n各列缺失值数量：\")\n",
    "    missing_values = df.isnull().sum()\n",
    "    missing_percentage = (df.isnull().sum() / len(df)) * 100\n",
    "    missing_info = pd.DataFrame({'Missing Values': missing_values, 'Percentage (%)': missing_percentage})\n",
    "    display(missing_info[missing_info['Missing Values'] > 0].sort_values(by='Missing Values', ascending=False))\n",
    "    if missing_info['Missing Values'].sum() == 0:\n",
    "        print(\"数据中没有缺失值。\")"
   ]
  },
  {
   "cell_type": "markdown",
   "metadata": {},
   "source": [
    "### 5. 详细列检查与数据类型调整\n",
    "\n",
    "接下来，我们将详细检查一些关键列的唯一值，并根据其特性考虑是否需要调整数据类型，以便于后续分析。"
   ]
  },
  {
   "cell_type": "markdown",
   "metadata": {},
   "source": [
    "#### 5.1 检查分类列的唯一值\n",
    "\n",
    "了解分类列中具体的取值情况。"
   ]
  },
  {
   "cell_type": "code",
   "execution_count": 8,
   "metadata": {},
   "outputs": [
    {
     "name": "stdout",
     "output_type": "stream",
     "text": [
      "Gender 唯一值: ['F' 'M']\n",
      "Gender 值计数:\n",
      " Gender\n",
      "M    414259\n",
      "F    135809\n",
      "Name: count, dtype: int64\n"
     ]
    }
   ],
   "source": [
    "if df is not None:\n",
    "    print(\"Gender 唯一值:\", df['Gender'].unique())\n",
    "    print(\"Gender 值计数:\\n\", df['Gender'].value_counts())"
   ]
  },
  {
   "cell_type": "code",
   "execution_count": 9,
   "metadata": {},
   "outputs": [
    {
     "name": "stdout",
     "output_type": "stream",
     "text": [
      "Age 唯一值: ['0-17' '55+' '26-35' '46-50' '51-55' '36-45' '18-25']\n",
      "Age 值计数:\n",
      " Age\n",
      "0-17      15102\n",
      "18-25     99660\n",
      "26-35    219587\n",
      "36-45    110013\n",
      "46-50     45701\n",
      "51-55     38501\n",
      "55+       21504\n",
      "Name: count, dtype: int64\n"
     ]
    }
   ],
   "source": [
    "if df is not None:\n",
    "    print(\"Age 唯一值:\", df['Age'].unique())\n",
    "    print(\"Age 值计数:\\n\", df['Age'].value_counts().sort_index()) # 按索引排序方便查看"
   ]
  },
  {
   "cell_type": "code",
   "execution_count": 10,
   "metadata": {},
   "outputs": [
    {
     "name": "stdout",
     "output_type": "stream",
     "text": [
      "Occupation 唯一值: [np.int64(0), np.int64(1), np.int64(2), np.int64(3), np.int64(4), np.int64(5), np.int64(6), np.int64(7), np.int64(8), np.int64(9), np.int64(10), np.int64(11), np.int64(12), np.int64(13), np.int64(14), np.int64(15), np.int64(16), np.int64(17), np.int64(18), np.int64(19), np.int64(20)]\n",
      "Occupation 值计数:\n",
      " Occupation\n",
      "0     69638\n",
      "1     47426\n",
      "2     26588\n",
      "3     17650\n",
      "4     72308\n",
      "5     12177\n",
      "6     20355\n",
      "7     59133\n",
      "8      1546\n",
      "9      6291\n",
      "10    12930\n",
      "11    11586\n",
      "12    31179\n",
      "13     7728\n",
      "14    27309\n",
      "15    12165\n",
      "16    25371\n",
      "17    40043\n",
      "18     6622\n",
      "19     8461\n",
      "20    33562\n",
      "Name: count, dtype: int64\n"
     ]
    }
   ],
   "source": [
    "if df is not None:\n",
    "    print(\"Occupation 唯一值:\", sorted(df['Occupation'].unique())) # 排序后查看\n",
    "    print(\"Occupation 值计数:\\n\", df['Occupation'].value_counts().sort_index())"
   ]
  },
  {
   "cell_type": "code",
   "execution_count": 11,
   "metadata": {},
   "outputs": [
    {
     "name": "stdout",
     "output_type": "stream",
     "text": [
      "City_Category 唯一值: ['A' 'C' 'B']\n",
      "City_Category 值计数:\n",
      " City_Category\n",
      "A    147720\n",
      "B    231173\n",
      "C    171175\n",
      "Name: count, dtype: int64\n"
     ]
    }
   ],
   "source": [
    "if df is not None:\n",
    "    print(\"City_Category 唯一值:\", df['City_Category'].unique())\n",
    "    print(\"City_Category 值计数:\\n\", df['City_Category'].value_counts().sort_index())"
   ]
  },
  {
   "cell_type": "code",
   "execution_count": 12,
   "metadata": {},
   "outputs": [
    {
     "name": "stdout",
     "output_type": "stream",
     "text": [
      "Stay_In_Current_City_Years 唯一值: ['2' '4+' '3' '1' '0']\n",
      "Stay_In_Current_City_Years 值计数:\n",
      " Stay_In_Current_City_Years\n",
      "0      74398\n",
      "1     193821\n",
      "2     101838\n",
      "3      95285\n",
      "4+     84726\n",
      "Name: count, dtype: int64\n"
     ]
    }
   ],
   "source": [
    "if df is not None:\n",
    "    print(\"Stay_In_Current_City_Years 唯一值:\", df['Stay_In_Current_City_Years'].unique())\n",
    "    print(\"Stay_In_Current_City_Years 值计数:\\n\", df['Stay_In_Current_City_Years'].value_counts().sort_index())"
   ]
  },
  {
   "cell_type": "code",
   "execution_count": 13,
   "metadata": {},
   "outputs": [
    {
     "name": "stdout",
     "output_type": "stream",
     "text": [
      "Marital_Status 唯一值: [0 1]\n",
      "Marital_Status 值计数:\n",
      " Marital_Status\n",
      "0    324731\n",
      "1    225337\n",
      "Name: count, dtype: int64\n"
     ]
    }
   ],
   "source": [
    "if df is not None:\n",
    "    print(\"Marital_Status 唯一值:\", df['Marital_Status'].unique())\n",
    "    print(\"Marital_Status 值计数:\\n\", df['Marital_Status'].value_counts().sort_index())"
   ]
  },
  {
   "cell_type": "code",
   "execution_count": 14,
   "metadata": {},
   "outputs": [
    {
     "name": "stdout",
     "output_type": "stream",
     "text": [
      "Product_Category 唯一值数量: 20\n",
      "Product_Category 唯一值 (部分示例): [np.int64(1), np.int64(2), np.int64(3), np.int64(4), np.int64(5), np.int64(6), np.int64(7), np.int64(8), np.int64(9), np.int64(10), np.int64(11), np.int64(12), np.int64(13), np.int64(14), np.int64(15), np.int64(16), np.int64(17), np.int64(18), np.int64(19), np.int64(20)]\n",
      "Product_Category 值计数 (按品类ID排序):\n",
      " Product_Category\n",
      "1     140378\n",
      "2      23864\n",
      "3      20213\n",
      "4      11753\n",
      "5     150933\n",
      "6      20466\n",
      "7       3721\n",
      "8     113925\n",
      "9        410\n",
      "10      5125\n",
      "11     24287\n",
      "12      3947\n",
      "13      5549\n",
      "14      1523\n",
      "15      6290\n",
      "16      9828\n",
      "17       578\n",
      "18      3125\n",
      "19      1603\n",
      "20      2550\n",
      "Name: count, dtype: int64\n"
     ]
    }
   ],
   "source": [
    "if df is not None:\n",
    "    print(\"Product_Category 唯一值数量:\", df['Product_Category'].nunique())\n",
    "    print(\"Product_Category 唯一值 (部分示例):\", sorted(df['Product_Category'].unique())[:20]) # 显示排序后的前20个，如果总数不多则全显示\n",
    "    print(\"Product_Category 值计数 (按品类ID排序):\\n\", df['Product_Category'].value_counts().sort_index())"
   ]
  },
  {
   "cell_type": "markdown",
   "metadata": {},
   "source": [
    "#### 5.2 检查ID类列的唯一值数量"
   ]
  },
  {
   "cell_type": "code",
   "execution_count": 15,
   "metadata": {},
   "outputs": [
    {
     "name": "stdout",
     "output_type": "stream",
     "text": [
      "独立用户数量 (User_ID): 5891\n",
      "独立产品数量 (Product_ID): 3631\n"
     ]
    }
   ],
   "source": [
    "if df is not None:\n",
    "    print(f\"独立用户数量 (User_ID): {df['User_ID'].nunique()}\")\n",
    "    print(f\"独立产品数量 (Product_ID): {df['Product_ID'].nunique()}\")"
   ]
  },
  {
   "cell_type": "markdown",
   "metadata": {},
   "source": [
    "#### 5.3 数据类型调整思考与计划\n",
    "\n",
    "根据以上观察：\n",
    "*   `Gender`, `Age`, `City_Category`, `Stay_In_Current_City_Years`：已经是 `object` 类型，适合表示分类。`Stay_In_Current_City_Years` 中的 '4+' 是一个特殊值，后续如果需要将其视为有序数值，需要进行转换（例如，将 '4+' 替换为 4 或 5）。目前作为分类可以直接使用。\n",
    "*   `Occupation`, `Marital_Status`, `Product_Category`：目前是 `int64` 类型，但它们实际上代表的是分类信息（职业代码、婚姻状况代码0/1、产品品类代码）。为了更明确地表达它们的分类属性，并可能利用 pandas `category` 类型的一些优势（如内存优化和特定操作），我们可以考虑将它们转换为 `category` 类型。\n",
    "*   `User_ID`：虽然是 `int64`，但它是一个标识符，不参与数值计算。可以保持 `int64` 或转换为 `object`/`str`，当前保持 `int64` 也可以。\n",
    "*   `Product_ID`：已经是 `object`，正确。\n",
    "*   `Purchase`：是 `float64`，正确。\n",
    "\n",
    "**计划进行的类型转换：**\n",
    "*   `Occupation` -> `category`\n",
    "*   `Marital_Status` -> `category`\n",
    "*   `Product_Category` -> `category`\n",
    "*   （可选）`Gender` -> `category`\n",
    "*   （可选）`Age` -> `category` (已经是 `object`，转为 `category` 可以指定顺序，但非必须)\n",
    "*   （可选）`City_Category` -> `category`\n",
    "*   （可选）`Stay_In_Current_City_Years` -> `category` (可以处理 '4+' 为一个特定类别)"
   ]
  },
  {
   "cell_type": "code",
   "execution_count": 16,
   "metadata": {},
   "outputs": [
    {
     "name": "stdout",
     "output_type": "stream",
     "text": [
      "转换前数据类型:\n",
      "User_ID                         int64\n",
      "Product_ID                     object\n",
      "Gender                         object\n",
      "Age                            object\n",
      "Occupation                      int64\n",
      "City_Category                  object\n",
      "Stay_In_Current_City_Years     object\n",
      "Marital_Status                  int64\n",
      "Product_Category                int64\n",
      "Purchase                      float64\n",
      "dtype: object\n",
      "\n",
      "转换后数据类型:\n",
      "User_ID                          int64\n",
      "Product_ID                      object\n",
      "Gender                        category\n",
      "Age                           category\n",
      "Occupation                    category\n",
      "City_Category                 category\n",
      "Stay_In_Current_City_Years    category\n",
      "Marital_Status                category\n",
      "Product_Category              category\n",
      "Purchase                       float64\n",
      "dtype: object\n",
      "\n",
      "再次查看数据基本信息:\n",
      "<class 'pandas.core.frame.DataFrame'>\n",
      "RangeIndex: 550068 entries, 0 to 550067\n",
      "Data columns (total 10 columns):\n",
      " #   Column                      Non-Null Count   Dtype   \n",
      "---  ------                      --------------   -----   \n",
      " 0   User_ID                     550068 non-null  int64   \n",
      " 1   Product_ID                  550068 non-null  object  \n",
      " 2   Gender                      550068 non-null  category\n",
      " 3   Age                         550068 non-null  category\n",
      " 4   Occupation                  550068 non-null  category\n",
      " 5   City_Category               550068 non-null  category\n",
      " 6   Stay_In_Current_City_Years  550068 non-null  category\n",
      " 7   Marital_Status              550068 non-null  category\n",
      " 8   Product_Category            550068 non-null  category\n",
      " 9   Purchase                    550068 non-null  float64 \n",
      "dtypes: category(7), float64(1), int64(1), object(1)\n",
      "memory usage: 16.3+ MB\n"
     ]
    }
   ],
   "source": [
    "if df is not None:\n",
    "    print(\"转换前数据类型:\")\n",
    "    print(df.dtypes)\n",
    "\n",
    "    # 核心转换\n",
    "    df['Occupation'] = df['Occupation'].astype('category')\n",
    "    df['Marital_Status'] = df['Marital_Status'].astype('category')\n",
    "    df['Product_Category'] = df['Product_Category'].astype('category')\n",
    "\n",
    "    # 可选转换 (object 转 category 通常是为了语义更明确或利用category特性)\n",
    "    df['Gender'] = df['Gender'].astype('category')\n",
    "    df['Age'] = df['Age'].astype('category') # 注意：直接转category可能不会保留期望的顺序，后续可视化时可能需要排序\n",
    "    df['City_Category'] = df['City_Category'].astype('category')\n",
    "    df['Stay_In_Current_City_Years'] = df['Stay_In_Current_City_Years'].astype('category')\n",
    "\n",
    "\n",
    "    print(\"\\n转换后数据类型:\")\n",
    "    print(df.dtypes)\n",
    "\n",
    "    # 验证转换后 Age 列的类别顺序 (如果需要特定顺序)\n",
    "    # 例如，我们可以定义一个期望的年龄段顺序\n",
    "    age_categories_ordered = ['0-17', '18-25', '26-35', '36-45', '46-50', '51-55', '55+']\n",
    "    # df['Age'] = pd.Categorical(df['Age'], categories=age_categories_ordered, ordered=True)\n",
    "    # print(\"\\nAge列设置为有序分类后的信息:\")\n",
    "    # print(df['Age'].dtype)\n",
    "    # print(df['Age'].head()) # 查看是否按顺序排列 (这不会改变数据本身排列，而是影响排序和一些绘图行为)\n",
    "\n",
    "    # 对于 Stay_In_Current_City_Years，如果需要排序，也可以类似处理\n",
    "    # current_city_years_ordered = ['0', '1', '2', '3', '4+']\n",
    "    # df['Stay_In_Current_City_Years'] = pd.Categorical(df['Stay_In_Current_City_Years'], categories=current_city_years_ordered, ordered=True)\n",
    "    # print(\"\\nStay_In_Current_City_Years列设置为有序分类后的信息:\")\n",
    "    # print(df['Stay_In_Current_City_Years'].dtype)\n",
    "\n",
    "    print(\"\\n再次查看数据基本信息:\")\n",
    "    df.info()"
   ]
  },
  {
   "cell_type": "markdown",
   "metadata": {},
   "source": [
    "### 6. 本阶段总结与后续步骤\n",
    "\n",
    "**数据理解与准备阶段小结：**\n",
    "\n",
    "1.  **数据加载**：成功加载了 `huiju_sales_data_2022_processed.csv` 数据集，包含 550,068 条交易记录和 10 个特征。\n",
    "2.  **初步探索**：\n",
    "    *   `User_ID`: 5891 名独立用户。\n",
    "    *   `Product_ID`: 3631 种独立商品。\n",
    "    *   关键人口统计学特征包括 `Gender`, `Age`, `Occupation`, `City_Category`, `Stay_In_Current_City_Years`, `Marital_Status`。\n",
    "    *   核心交易特征为 `Product_Category` 和 `Purchase`（购买金额）。\n",
    "    *   数据中**无缺失值**，简化了清洗流程。\n",
    "3.  **数据类型转换**：\n",
    "    *   将 `Gender`, `Age`, `Occupation`, `City_Category`, `Stay_In_Current_City_Years`, `Marital_Status`, `Product_Category` 转换为 `category` 类型，以更准确地反映其数据性质并优化内存使用。\n",
    "    *   其他字段类型（`User_ID`, `Product_ID`, `Purchase`）保持不变，符合其数据含义。\n",
    "\n",
    "**后续步骤：**\n",
    "\n",
    "数据现已准备就绪，可以进入下一个阶段——**探索性数据分析 (EDA)**。在下一份 Notebook (`02_exploratory_data_analysis.ipynb`) 中，我们将深入分析各个变量的分布情况，以及它们之间的初步关系，为后续的用户品类偏好分析打下基础。"
   ]
  }
 ],
 "metadata": {
  "kernelspec": {
   "display_name": ".venv",
   "language": "python",
   "name": "python3"
  },
  "language_info": {
   "codemirror_mode": {
    "name": "ipython",
    "version": 3
   },
   "file_extension": ".py",
   "mimetype": "text/x-python",
   "name": "python",
   "nbconvert_exporter": "python",
   "pygments_lexer": "ipython3",
   "version": "3.12.9"
  }
 },
 "nbformat": 4,
 "nbformat_minor": 2
}
